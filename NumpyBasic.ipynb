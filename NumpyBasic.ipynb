{
 "cells": [
  {
   "cell_type": "code",
   "execution_count": 35,
   "id": "bca0d6b9",
   "metadata": {},
   "outputs": [],
   "source": [
    "import numpy as np #1\n",
    "scores = np.array([\n",
    "    [85, 90, 78, 92, 88],      \n",
    "    [72, 75, 80, 68, 74],  \n",
    "    [95, 88, 92, 96, 90],     \n",
    "    [60, 65, 70, 58, 62],      \n",
    "    [88, 84, 86, 89, 87]]) "
   ]
  },
  {
   "cell_type": "code",
   "execution_count": 36,
   "id": "76528d8b",
   "metadata": {},
   "outputs": [
    {
     "data": {
      "text/plain": [
       "array([95, 88, 92, 96, 90])"
      ]
     },
     "execution_count": 36,
     "metadata": {},
     "output_type": "execute_result"
    }
   ],
   "source": [
    "scores[2] #score 3 studend all marks "
   ]
  },
  {
   "cell_type": "code",
   "execution_count": 5,
   "id": "6e8a373c",
   "metadata": {},
   "outputs": [
    {
     "data": {
      "text/plain": [
       "array([90, 75, 88, 65, 84])"
      ]
     },
     "execution_count": 5,
     "metadata": {},
     "output_type": "execute_result"
    }
   ],
   "source": [
    "scores[:, 1] # 2 subject all student marks "
   ]
  },
  {
   "cell_type": "code",
   "execution_count": 6,
   "id": "7c089400",
   "metadata": {},
   "outputs": [
    {
     "data": {
      "text/plain": [
       "array([[85, 90],\n",
       "       [72, 75],\n",
       "       [95, 88]])"
      ]
     },
     "execution_count": 6,
     "metadata": {},
     "output_type": "execute_result"
    }
   ],
   "source": [
    "scores[:3, :2] # first 3 student & 2 subject marks "
   ]
  },
  {
   "cell_type": "code",
   "execution_count": 7,
   "id": "7382996d",
   "metadata": {},
   "outputs": [
    {
     "data": {
      "text/plain": [
       "array([[70, 58, 62],\n",
       "       [86, 89, 87]])"
      ]
     },
     "execution_count": 7,
     "metadata": {},
     "output_type": "execute_result"
    }
   ],
   "source": [
    "scores [3:,2:]#last 2 student & last 3 subject"
   ]
  },
  {
   "cell_type": "code",
   "execution_count": 8,
   "id": "31aecaa1",
   "metadata": {},
   "outputs": [
    {
     "data": {
      "text/plain": [
       "array([[ 90,  95,  83,  97,  93],\n",
       "       [ 77,  80,  85,  73,  79],\n",
       "       [100,  93,  97, 101,  95],\n",
       "       [ 65,  70,  75,  63,  67],\n",
       "       [ 93,  89,  91,  94,  92]])"
      ]
     },
     "execution_count": 8,
     "metadata": {},
     "output_type": "execute_result"
    }
   ],
   "source": [
    "scores + 5 # add 5 marks"
   ]
  },
  {
   "cell_type": "code",
   "execution_count": 12,
   "id": "ed4a1998",
   "metadata": {},
   "outputs": [
    {
     "data": {
      "text/plain": [
       "array([82, 58, 86, 48, 79])"
      ]
     },
     "execution_count": 12,
     "metadata": {},
     "output_type": "execute_result"
    }
   ],
   "source": [
    "scores [:,3] -10 # -10 subject 4 all student"
   ]
  },
  {
   "cell_type": "raw",
   "id": "61ea6d50",
   "metadata": {},
   "source": [
    "scores [scores.sum*/5]"
   ]
  },
  {
   "cell_type": "code",
   "execution_count": 24,
   "id": "d9e2aff6",
   "metadata": {},
   "outputs": [
    {
     "name": "stdout",
     "output_type": "stream",
     "text": [
      "[86.6 73.8 92.2 63.  86.8]\n"
     ]
    }
   ],
   "source": [
    "a= (scores.sum(axis=1)/5)# percentage all student\n",
    "print(a)"
   ]
  },
  {
   "cell_type": "code",
   "execution_count": 29,
   "id": "bf5e760b",
   "metadata": {},
   "outputs": [
    {
     "name": "stdout",
     "output_type": "stream",
     "text": [
      "[86.6 73.8 92.2 63.  86.8]\n"
     ]
    }
   ],
   "source": [
    "b = scores.mean(axis=1)# average score for each student across all subjects\n",
    "print(b)\n"
   ]
  },
  {
   "cell_type": "code",
   "execution_count": 30,
   "id": "2f38e7cc",
   "metadata": {},
   "outputs": [
    {
     "name": "stdout",
     "output_type": "stream",
     "text": [
      "[433 369 461 315 434]\n"
     ]
    }
   ],
   "source": [
    "c = scores.sum(axis=1)#total marks scored by each student\n",
    "print(c)\n"
   ]
  },
  {
   "cell_type": "code",
   "execution_count": 31,
   "id": "50a560bf",
   "metadata": {},
   "outputs": [
    {
     "name": "stdout",
     "output_type": "stream",
     "text": [
      "96\n"
     ]
    }
   ],
   "source": [
    "d = scores.max()# the highest score in the entire array\n",
    "print(d)\n"
   ]
  },
  {
   "cell_type": "code",
   "execution_count": 33,
   "id": "973955f4",
   "metadata": {},
   "outputs": [
    {
     "name": "stdout",
     "output_type": "stream",
     "text": [
      "[80.  80.4 81.2 80.6 80.2]\n"
     ]
    }
   ],
   "source": [
    "e = scores.mean(axis=0)# average score for each subject\n",
    "print(e)\n"
   ]
  },
  {
   "cell_type": "code",
   "execution_count": 34,
   "id": "804e4ac2",
   "metadata": {},
   "outputs": [
    {
     "name": "stdout",
     "output_type": "stream",
     "text": [
      "19\n"
     ]
    }
   ],
   "source": [
    "f = np.argmin(ascores)#the lowest average score\n",
    "print(f+1)\n"
   ]
  },
  {
   "cell_type": "code",
   "execution_count": null,
   "id": "7c525e6a",
   "metadata": {},
   "outputs": [],
   "source": []
  }
 ],
 "metadata": {
  "kernelspec": {
   "display_name": "Python 3 (ipykernel)",
   "language": "python",
   "name": "python3"
  },
  "language_info": {
   "codemirror_mode": {
    "name": "ipython",
    "version": 3
   },
   "file_extension": ".py",
   "mimetype": "text/x-python",
   "name": "python",
   "nbconvert_exporter": "python",
   "pygments_lexer": "ipython3",
   "version": "3.11.5"
  }
 },
 "nbformat": 4,
 "nbformat_minor": 5
}
